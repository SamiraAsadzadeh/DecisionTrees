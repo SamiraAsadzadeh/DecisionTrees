{
  "nbformat": 4,
  "nbformat_minor": 0,
  "metadata": {
    "colab": {
      "provenance": []
    },
    "kernelspec": {
      "name": "python3",
      "display_name": "Python 3"
    },
    "language_info": {
      "name": "python"
    }
  },
  "cells": [
    {
      "cell_type": "code",
      "execution_count": null,
      "metadata": {
        "id": "p7U4Wk9Nrl_R"
      },
      "outputs": [],
      "source": [
        "#ابتدا تمام بسته های مورد نیاز را وارد می کنیم\n",
        "## imports ##\n",
        "from abc import ABC,abstractmethod\n",
        "from scipy import stats\n",
        "import numpy as np\n",
        "import pandas as pd\n",
        "import matplotlib.pyplot as plt\n",
        "from sklearn.model_selection import train_test_split\n",
        "from sklearn.datasets import load_breast_cancer,make_regression\n",
        "from sklearn.metrics import accuracy_score,precision_score,recall_score,mean_squared_error,mean_absolute_error,r2_score"
      ]
    },
    {
      "cell_type": "code",
      "source": [
        "#در این مرحله  کلاسی می سازیم که عملکرد هر گره را در درخت ما تعریف می کند\n",
        "#class to control tree node\n",
        "class Node:\n",
        "    #initializer\n",
        "    def __init__(self): #ین تابع مقداردهی اولیه است که با اعلام یک نمونه کلاس به طور خودکار اجرا می شود. پارامترهای مدل در اینجا مقداردهی اولیه می شوند\n",
        "        self.__Bs    = None\n",
        "        self.__Bf    = None\n",
        "        self.__left  = None\n",
        "        self.__right = None\n",
        "        self.leafv   = None\n",
        "\n",
        "    #تنظیم پارامترهای تقسیم، ویژگی برای این گره\n",
        "    #set the split,feature parameters for this node\n",
        "    def set_params(self,Bs,Bf):\n",
        "        self.__Bs = Bs\n",
        "        self.__Bf = Bf\n",
        "\n",
        "    #پارامترهای تقسیم، ویژگی را برای این گره دریافت کنید\n",
        "    #get the split,feature parameters for this node\n",
        "    def get_params(self):\n",
        "        return(self.__Bs,self.__Bf)\n",
        "\n",
        "    #گره های فرزند چپ/راست را برای این گره فعلی تنظیم کنید\n",
        "    #set the left/right children nodes for this current node\n",
        "    def set_children(self,left,right):\n",
        "        self.__left  = left\n",
        "        self.__right = right\n",
        "\n",
        "    #گره فرزند سمت چپ را برگردانید\n",
        "    #get the left child node\n",
        "    def get_left_node(self):\n",
        "        return(self.__left)\n",
        "\n",
        "    #گره فرزند سمت راست را برگردانید\n",
        "    #get the right child node\n",
        "    def get_right_node(self):\n",
        "        return(self.__right)"
      ],
      "metadata": {
        "id": "ZOOXu_tXr6je"
      },
      "execution_count": null,
      "outputs": []
    },
    {
      "cell_type": "code",
      "source": [
        "#کلاس پایه برای در بر گرفتن الگوریتم درخت تصمیم\n",
        "#base class to encompass the decision tree algorithm\n",
        "class DecisionTree(ABC):\n",
        "    #initializer\n",
        "    def __init__(self,max_depth=None,min_samples_split=2):\n",
        "        self.tree              = None\n",
        "        self.max_depth         = max_depth #حداکثر تعداد سطوح مجاز را در هنگام رشد درخت تعیین می کند (پیش فرض هیچکدام).\n",
        "        self.min_samples_split = min_samples_split # حداقل تعداد نمونه را برای اجازه دادن به یک تقسیم در هر گره معینی تعریف می کند (پیش فرض 2).\n",
        "        #هر دوی این پارامترهای فوق برای جلوگیری از تطبیق بیش از حد درخت روی داده‌های آموزشی عمل می‌کنند و باید از طریق اعتبارسنجی متقابل در مجموعه داده تعیین شوند.\n",
        "\n",
        "    #تابع محافظت شده برای تعریف ناخالصی\n",
        "    #protected function to define the impurity\n",
        "\n",
        "    def _impurity(self,D):\n",
        "         pass\n",
        "     #تابع محافظت شده برای محاسبه مقدار در یک گره برگ\n",
        "    #protected function to compute the value at a leaf node\n",
        "\n",
        "    def _leaf_value(self,D):\n",
        "         pass\n",
        "\n",
        "     #تابع بازگشتی اختصاصی برای رشد درخت در طول آموزش\n",
        "    #private recursive function to grow the tree during training\n",
        "    def __grow(self,node,D,level):\n",
        "\n",
        "       #تابع ابتدا بررسی می کند که آیا گره فعلی یک گره برگ است یا خیر\n",
        "        #are we in a leaf node? let's do some check...\n",
        "        depth = (self.max_depth is None) or (self.max_depth >= (level+1))\n",
        "        msamp = (self.min_samples_split <= D.shape[0])\n",
        "        n_cls = np.unique(D[:,-1]).shape[0] != 1\n",
        "        #اگر گره برگ نیست\n",
        "        #not a leaf node\n",
        "        if depth and msamp and n_cls:\n",
        "            #مقداردهی اولیه پارامترهای تابع\n",
        "            #initialize the function parameters\n",
        "            ip_node = None\n",
        "            feature = None\n",
        "            split   = None\n",
        "            left_D  = None\n",
        "            right_D = None\n",
        "            #از طریق ترکیب‌های ممکن ویژگی/ مقدار تقسیم  تکرار کنید\n",
        "            #iterrate through the possible feature/split combinations\n",
        "            for f in range(D.shape[1]-1):\n",
        "                for s in np.unique(D[:,f]):\n",
        "                    #برای ترکیب فعلی مجموعه داده را تقسیم کنید (f,s)،\n",
        "                    #for the current (f,s) combination, split the dataset\n",
        "                    D_l = D[D[:,f]<=s]\n",
        "                    D_r = D[D[:,f]>s]\n",
        "                    #اطمینان حاصل کنید که آرایه های غیر خالی داریم\n",
        "                    #ensure we have non-empty arrays\n",
        "                    if D_l.size and D_r.size:\n",
        "                      #ناخالصی را محاسبه کنید\n",
        "                        #calculate the impurity\n",
        "                        ip  = (D_l.shape[0]/D.shape[0])*self._impurity(D_l) + (D_r.shape[0]/D.shape[0])*self._impurity(D_r)\n",
        "                        #(f,s)اکنون به روز رسانی ناخالصی و انتخاب از\n",
        "                        #now update the impurity and choice of (f,s)\n",
        "                        if (ip_node is None) or (ip < ip_node):\n",
        "                            ip_node = ip\n",
        "                            feature = f\n",
        "                            split   = s\n",
        "                            left_D  = D_l\n",
        "                            right_D = D_r\n",
        "            #تنظیم پارامترهای گره فعلی\n",
        "            #set the current node's parameters\n",
        "            node.set_params(split,feature)\n",
        "            #اعلان گره های فرزند\n",
        "            #declare child nodes\n",
        "            left_node  = Node()\n",
        "            right_node = Node()\n",
        "            node.set_children(left_node,right_node)\n",
        "            #بررسی گره های فرزند\n",
        "            #investigate child nodes\n",
        "            self.__grow(node.get_left_node(),left_D,level+1)\n",
        "            self.__grow(node.get_right_node(),right_D,level+1)\n",
        "\n",
        "        #گره برگ است\n",
        "        #is a leaf node\n",
        "        else:\n",
        "            #مقدار گره را تنظیم کنید و برگردانید\n",
        "            #set the node value & return\n",
        "            node.leafv = self._leaf_value(D)\n",
        "            return\n",
        "     #تابع بازگشتی اختصاصی برای عبور از درخت (آموزش داده شده).\n",
        "    #private recursive function to traverse the (trained) tree\n",
        "    def __traverse(self,node,Xrow):\n",
        "      #بررسی کنید که آیا ما در یک گره برگ هستیم؟\n",
        "        #check if we're in a leaf node?\n",
        "        if node.leafv is None:\n",
        "          # پارامترها را در گره دریافت کنید\n",
        "            #get parameters at the node\n",
        "            (s,f) = node.get_params()\n",
        "            #تصمیم به چپ یا راست رفتن؟\n",
        "            #decide to go left or right?\n",
        "            if (Xrow[f] <= s):\n",
        "                return(self.__traverse(node.get_left_node(),Xrow))\n",
        "            else:\n",
        "                return(self.__traverse(node.get_right_node(),Xrow))\n",
        "        else:\n",
        "          #مقدار برگ را برگردانید\n",
        "            #return the leaf value\n",
        "            return(node.leafv)\n",
        "    #آموزش مدل درخت\n",
        "    #train the tree model\n",
        "    def train(self,Xin,Yin):\n",
        "      #داده های ورودی را آماده کنید\n",
        "        #prepare the input data\n",
        "        D = np.concatenate((Xin,Yin.reshape(-1,1)),axis=1)\n",
        "        #گره ریشه درخت را تنظیم کنید\n",
        "        #set the root node of the tree\n",
        "        self.tree = Node()\n",
        "        #درخت را بساز\n",
        "        #build the tree\n",
        "        self.__grow(self.tree,D,1)\n",
        "     # از درخت آموزش دیده پیش بینی کنید\n",
        "    #make predictions from the trained tree\n",
        "    def predict(self,Xin):\n",
        "      #تغییر از طریق ردیف های Xin\n",
        "        #iterrate through the rows of Xin\n",
        "        p = []\n",
        "        for r in range(Xin.shape[0]):\n",
        "            p.append(self.__traverse(self.tree,Xin[r,:]))\n",
        "            #پیش‌بینی بازگشت\n",
        "        #return predictions\n",
        "        return(np.array(p).flatten())"
      ],
      "metadata": {
        "id": "CKDsCaLL5tVC"
      },
      "execution_count": null,
      "outputs": []
    },
    {
      "cell_type": "code",
      "source": [
        "#اکنون کلاس فرزند را برای مسائل طبقه بندی، DecisionTreeClassifier تعریف می کنیم\n",
        "#Decision Tree Classifier\n",
        "class DecisionTreeClassifier(DecisionTree):\n",
        "    #initializer\n",
        "    def __init__(self,max_depth=None,min_samples_split=2,loss='gini'):\n",
        "        DecisionTree.__init__(self,max_depth,min_samples_split)\n",
        "        self.loss = loss\n",
        "    # تابع اختصاصی برای تعریف ناخالصی جینی\n",
        "    #private function to define the gini impurity\n",
        "    def __gini(self,D):\n",
        "        #initialize the output\n",
        "        G = 0\n",
        "        #iterrate through the unique classes\n",
        "        for c in np.unique(D[:,-1]):\n",
        "            #compute p for the current c\n",
        "            p = D[D[:,-1]==c].shape[0]/D.shape[0]\n",
        "            #compute term for the current c\n",
        "            G += p*(1-p)\n",
        "        #return gini impurity\n",
        "        return(G)\n",
        "    # تابع خصوصی برای تعریف آنتروپی\n",
        "    #private function to define the shannon entropy\n",
        "    def __entropy(self,D):\n",
        "      # خروجی را مقدار دهی اولیه کنید\n",
        "        #initialize the output\n",
        "        H = 0\n",
        "        #تکرار از طریق کلاس های منحصر به فرد\n",
        "        #iterrate through the unique classes\n",
        "        for c in np.unique(D[:,-1]):\n",
        "            #compute p for the current c\n",
        "            p = D[D[:,-1]==c].shape[0]/D.shape[0]\n",
        "            #compute term for the current c\n",
        "            H -= p*np.log2(p)\n",
        "        #return entropy\n",
        "        return(H)\n",
        "#----------------------------------------------------\n",
        "         # تابع اختصاصی برای تعریف ناخالصی جینی\n",
        "    #private function to define the gini impurity\n",
        "    def __giniE(self,D):\n",
        "        #initialize the output\n",
        "        GH = 0\n",
        "        #iterrate through the unique classes\n",
        "        for c in np.unique(D[:,-1]):\n",
        "          for k in np.unique(D[:1,-1]):\n",
        "            #compute p for the current c\n",
        "            pp = D[D[:,-1]==c]\n",
        "            l = D[D[:1,-1]==k]\n",
        "            z = pp.intersection(l)\n",
        "            union = (len(pp) + len(l)) - z\n",
        "            qq = z / union\n",
        "            #z= jaccard_set(pp,l)\n",
        "            o = pp.difference(l) / 2\n",
        "            GH = (1-o) * qq\n",
        "            #compute term for the current c\n",
        "            #GH += p*(1-p)\n",
        "        #return gini impurity\n",
        "        return(GH)\n",
        "#----------------------------------------------------------\n",
        "    # تابع محافظت شده برای تعریف ناخالصی\n",
        "    #protected function to define the impurity\n",
        "    def _impurity(self,D):\n",
        "      #برای محاسبه ناخالصی گره از تابع ضرر انتخاب شده استفاده کنید\n",
        "        #use the selected loss function to calculate the node impurity\n",
        "        ip = None\n",
        "        if self.loss == 'gini':\n",
        "            ip = self.__gini(D)\n",
        "        #elif self.loss == 'entropy':\n",
        "           # ip = self.__entropy(D)\n",
        "        elif self.loss == 'giniE':\n",
        "            ip = self.__giniE(D)\n",
        "        #return results\n",
        "        return(ip)\n",
        "    # تابع محافظت شده برای محاسبه مقدار در یک گره برگ\n",
        "    #protected function to compute the value at a leaf node\n",
        "    def _leaf_value(self,D):\n",
        "         return(stats.mode(D[:,-1])[0])"
      ],
      "metadata": {
        "id": "qHGiqb7N504n"
      },
      "execution_count": null,
      "outputs": []
    },
    {
      "cell_type": "code",
      "source": [
        "#Decision Tree Regressor\n",
        "class DecisionTreeRegressor(DecisionTree):\n",
        "    #initializer\n",
        "    def __init__(self,max_depth=None,min_samples_split=2,loss='mse'):\n",
        "        DecisionTree.__init__(self,max_depth,min_samples_split)\n",
        "        self.loss = loss\n",
        "\n",
        "    #private function to define the mean squared error\n",
        "    def __mse(self,D):\n",
        "        #compute the mean target for the node\n",
        "        y_m = np.mean(D[:,-1])\n",
        "        #compute the mean squared error wrt the mean\n",
        "        E = np.sum((D[:,-1] - y_m)**2)/D.shape[0]\n",
        "        #return mse\n",
        "        return(E)\n",
        "\n",
        "    #private function to define the mean absolute error\n",
        "    def __mae(self,D):\n",
        "        #compute the mean target for the node\n",
        "        y_m = np.mean(D[:,-1])\n",
        "        #compute the mean absolute error wrt the mean\n",
        "        E = np.sum(np.abs(D[:,-1] - y_m))/D.shape[0]\n",
        "        #return mae\n",
        "        return(E)\n",
        "\n",
        "    #protected function to define the impurity\n",
        "    def _impurity(self,D):\n",
        "        #use the selected loss function to calculate the node impurity\n",
        "        ip = None\n",
        "        if self.loss == 'mse':\n",
        "            ip = self.__mse(D)\n",
        "        elif self.loss == 'mae':\n",
        "            ip = self.__mae(D)\n",
        "        #return results\n",
        "        return(ip)\n",
        "\n",
        "    #protected function to compute the value at a leaf node\n",
        "    def _leaf_value(self,D):\n",
        "         return(np.mean(D[:,-1]))"
      ],
      "metadata": {
        "id": "jJZaoOgy56zc"
      },
      "execution_count": null,
      "outputs": []
    },
    {
      "cell_type": "markdown",
      "source": [
        "**Classification Model**\n"
      ],
      "metadata": {
        "id": "ISoeTI6-6Cg6"
      }
    },
    {
      "cell_type": "code",
      "source": [
        "## load classification dataset ##\n",
        "data = load_breast_cancer()\n",
        "X    = data.data\n",
        "y    = data.target"
      ],
      "metadata": {
        "id": "lwowBeOzzhlb"
      },
      "execution_count": null,
      "outputs": []
    },
    {
      "cell_type": "code",
      "source": [
        "## what is the shape of the dataset? ##\n",
        "print('shape of X: ',X.shape)\n",
        "print('shape of y: ',y.shape)"
      ],
      "metadata": {
        "colab": {
          "base_uri": "https://localhost:8080/"
        },
        "id": "wZCQTN2QzsxE",
        "outputId": "5971aea8-ec12-4ed1-b5e1-3ec56bf82d84"
      },
      "execution_count": null,
      "outputs": [
        {
          "output_type": "stream",
          "name": "stdout",
          "text": [
            "shape of X:  (569, 30)\n",
            "shape of y:  (569,)\n"
          ]
        }
      ]
    },
    {
      "cell_type": "code",
      "source": [
        "## how many samples do I need per class for training? ##\n",
        "nsampclass = int(np.round(y.shape[0]*0.6/2,decimals=0))\n",
        "nsampclass"
      ],
      "metadata": {
        "colab": {
          "base_uri": "https://localhost:8080/"
        },
        "id": "84PugJmtz2a_",
        "outputId": "328b7d39-f04e-4d0e-f526-46dcb1334791"
      },
      "execution_count": null,
      "outputs": [
        {
          "output_type": "execute_result",
          "data": {
            "text/plain": [
              "171"
            ]
          },
          "metadata": {},
          "execution_count": 9
        }
      ]
    },
    {
      "cell_type": "code",
      "source": [
        "## do train/test split ##\n",
        "#partition the training data by label\n",
        "y0 = y[y==0]\n",
        "y1 = y[y==1]\n",
        "X0 = X[y==0]\n",
        "X1 = X[y==1]\n",
        "#select the elements to remove at random\n",
        "idx0 = np.random.choice([i for i in range(y0.shape[0])],size=nsampclass,replace=False)\n",
        "idx1 = np.random.choice([i for i in range(y1.shape[0])],size=nsampclass,replace=False)\n",
        "#select samples for training\n",
        "y_train0 = y0[idx0]\n",
        "y_train1 = y1[idx1]\n",
        "X_train0 = X0[idx0,:]\n",
        "X_train1 = X1[idx1,:]\n",
        "y_train  = np.concatenate((y_train0,y_train1))\n",
        "X_train  = np.concatenate((X_train0,X_train1))\n",
        "#use remainder for testing\n",
        "y_test0 = np.delete(y0,idx0)\n",
        "y_test1 = np.delete(y1,idx1)\n",
        "X_test0 = np.delete(X0,idx0,axis=0)\n",
        "X_test1 = np.delete(X1,idx1,axis=0)\n",
        "y_test  = np.concatenate((y_test0,y_test1))\n",
        "X_test  = np.concatenate((X_test0,X_test1))"
      ],
      "metadata": {
        "id": "15UxmPwdz62_"
      },
      "execution_count": null,
      "outputs": []
    },
    {
      "cell_type": "code",
      "source": [
        "from numpy import array"
      ],
      "metadata": {
        "id": "MEzMASXbUDc5"
      },
      "execution_count": null,
      "outputs": []
    },
    {
      "cell_type": "code",
      "source": [
        "## declare the classifier and train the model ##\n",
        "clff = DecisionTreeClassifier(max_depth=5,loss='gini')\n",
        "clff.train(X_train,y_train)"
      ],
      "metadata": {
        "id": "ZSiTuWoKYS-t"
      },
      "execution_count": null,
      "outputs": []
    },
    {
      "cell_type": "code",
      "source": [
        "## declare the classifier and train the model ##\n",
        "clff = DecisionTreeClassifier(max_depth=5,loss='giniE')\n",
        "clff.train(X_train,y_train)"
      ],
      "metadata": {
        "id": "qtgKUGdM41RF"
      },
      "execution_count": null,
      "outputs": []
    },
    {
      "cell_type": "code",
      "source": [
        "## generate predictions ##\n",
        "yp = clff.predict(X_test)"
      ],
      "metadata": {
        "id": "-3bhTgmM46AU"
      },
      "execution_count": null,
      "outputs": []
    },
    {
      "cell_type": "code",
      "source": [
        "## evaluate model performance ##\n",
        "print(\"accuracy: %.2f\" % accuracy_score(y_test,yp))\n",
        "print(\"precision: %.2f\" % precision_score(y_test,yp))\n",
        "print(\"recall: %.2f\" % recall_score(y_test,yp))"
      ],
      "metadata": {
        "colab": {
          "base_uri": "https://localhost:8080/"
        },
        "id": "qjdnPQTC46yk",
        "outputId": "b9965b83-8afd-4bc2-9db6-d04005331d53"
      },
      "execution_count": null,
      "outputs": [
        {
          "output_type": "stream",
          "name": "stdout",
          "text": [
            "accuracy: 0.93\n",
            "precision: 0.99\n",
            "recall: 0.92\n"
          ]
        }
      ]
    },
    {
      "cell_type": "code",
      "source": [
        "## import the scikit-learn model ##\n",
        "from sklearn.tree import DecisionTreeClassifier"
      ],
      "metadata": {
        "id": "V4tpiPnO7tnC"
      },
      "execution_count": null,
      "outputs": []
    },
    {
      "cell_type": "code",
      "source": [
        "## declare the classifier and train the model ##\n",
        "clf = DecisionTreeClassifier(max_depth=5,criterion='gini')\n",
        "clf.fit(X_train,y_train)"
      ],
      "metadata": {
        "colab": {
          "base_uri": "https://localhost:8080/"
        },
        "id": "Kocub_1t7yKy",
        "outputId": "de901419-f86a-46ad-e8ee-3e6d6f7716a2"
      },
      "execution_count": null,
      "outputs": [
        {
          "output_type": "execute_result",
          "data": {
            "text/plain": [
              "DecisionTreeClassifier(max_depth=5)"
            ]
          },
          "metadata": {},
          "execution_count": 86
        }
      ]
    },
    {
      "cell_type": "code",
      "source": [
        "## generate predictions ##\n",
        "yp = clf.predict(X_test)"
      ],
      "metadata": {
        "id": "39SSRvnb72BS"
      },
      "execution_count": null,
      "outputs": []
    },
    {
      "cell_type": "code",
      "source": [
        "## evaluate model performance ##\n",
        "print(\"accuracy: %.2f\" % accuracy_score(y_test,yp))\n",
        "print(\"precision: %.2f\" % precision_score(y_test,yp))\n",
        "print(\"recall: %.2f\" % recall_score(y_test,yp))"
      ],
      "metadata": {
        "colab": {
          "base_uri": "https://localhost:8080/"
        },
        "id": "l3YAIWry75we",
        "outputId": "37a5c1bd-bed7-4027-935f-8976d36bc97c"
      },
      "execution_count": null,
      "outputs": [
        {
          "output_type": "stream",
          "name": "stdout",
          "text": [
            "accuracy: 0.91\n",
            "precision: 0.99\n",
            "recall: 0.90\n"
          ]
        }
      ]
    },
    {
      "cell_type": "code",
      "source": [
        "from sklearn import tree\n",
        "tree.plot_tree(clf)"
      ],
      "metadata": {
        "colab": {
          "base_uri": "https://localhost:8080/",
          "height": 786
        },
        "id": "5Wew0OsH8aSm",
        "outputId": "3926ba38-2ac2-4e7f-daac-5a51ef95f464"
      },
      "execution_count": null,
      "outputs": [
        {
          "output_type": "execute_result",
          "data": {
            "text/plain": [
              "[Text(0.5217391304347826, 0.9166666666666666, 'X[22] <= 104.1\\ngini = 0.5\\nsamples = 342\\nvalue = [171, 171]'),\n",
              " Text(0.32608695652173914, 0.75, 'X[27] <= 0.172\\ngini = 0.134\\nsamples = 166\\nvalue = [12, 154]'),\n",
              " Text(0.2826086956521739, 0.5833333333333334, 'X[24] <= 0.178\\ngini = 0.072\\nsamples = 160\\nvalue = [6, 154]'),\n",
              " Text(0.17391304347826086, 0.4166666666666667, 'X[20] <= 15.78\\ngini = 0.05\\nsamples = 156\\nvalue = [4, 152]'),\n",
              " Text(0.08695652173913043, 0.25, 'X[10] <= 0.626\\ngini = 0.026\\nsamples = 150\\nvalue = [2, 148]'),\n",
              " Text(0.043478260869565216, 0.08333333333333333, 'gini = 0.014\\nsamples = 147\\nvalue = [1, 146]'),\n",
              " Text(0.13043478260869565, 0.08333333333333333, 'gini = 0.444\\nsamples = 3\\nvalue = [1, 2]'),\n",
              " Text(0.2608695652173913, 0.25, 'X[20] <= 15.955\\ngini = 0.444\\nsamples = 6\\nvalue = [2, 4]'),\n",
              " Text(0.21739130434782608, 0.08333333333333333, 'gini = 0.0\\nsamples = 2\\nvalue = [2, 0]'),\n",
              " Text(0.30434782608695654, 0.08333333333333333, 'gini = 0.0\\nsamples = 4\\nvalue = [0, 4]'),\n",
              " Text(0.391304347826087, 0.4166666666666667, 'X[9] <= 0.082\\ngini = 0.5\\nsamples = 4\\nvalue = [2, 2]'),\n",
              " Text(0.34782608695652173, 0.25, 'gini = 0.0\\nsamples = 2\\nvalue = [2, 0]'),\n",
              " Text(0.43478260869565216, 0.25, 'gini = 0.0\\nsamples = 2\\nvalue = [0, 2]'),\n",
              " Text(0.3695652173913043, 0.5833333333333334, 'gini = 0.0\\nsamples = 6\\nvalue = [6, 0]'),\n",
              " Text(0.717391304347826, 0.75, 'X[26] <= 0.261\\ngini = 0.175\\nsamples = 176\\nvalue = [159, 17]'),\n",
              " Text(0.6086956521739131, 0.5833333333333334, 'X[1] <= 19.735\\ngini = 0.499\\nsamples = 27\\nvalue = [13, 14]'),\n",
              " Text(0.5652173913043478, 0.4166666666666667, 'X[22] <= 131.0\\ngini = 0.346\\nsamples = 18\\nvalue = [4, 14]'),\n",
              " Text(0.5217391304347826, 0.25, 'X[5] <= 0.059\\ngini = 0.124\\nsamples = 15\\nvalue = [1, 14]'),\n",
              " Text(0.4782608695652174, 0.08333333333333333, 'gini = 0.0\\nsamples = 1\\nvalue = [1, 0]'),\n",
              " Text(0.5652173913043478, 0.08333333333333333, 'gini = 0.0\\nsamples = 14\\nvalue = [0, 14]'),\n",
              " Text(0.6086956521739131, 0.25, 'gini = 0.0\\nsamples = 3\\nvalue = [3, 0]'),\n",
              " Text(0.6521739130434783, 0.4166666666666667, 'gini = 0.0\\nsamples = 9\\nvalue = [9, 0]'),\n",
              " Text(0.8260869565217391, 0.5833333333333334, 'X[1] <= 14.12\\ngini = 0.039\\nsamples = 149\\nvalue = [146, 3]'),\n",
              " Text(0.7391304347826086, 0.4166666666666667, 'X[29] <= 0.097\\ngini = 0.444\\nsamples = 3\\nvalue = [1, 2]'),\n",
              " Text(0.6956521739130435, 0.25, 'gini = 0.0\\nsamples = 2\\nvalue = [0, 2]'),\n",
              " Text(0.782608695652174, 0.25, 'gini = 0.0\\nsamples = 1\\nvalue = [1, 0]'),\n",
              " Text(0.9130434782608695, 0.4166666666666667, 'X[24] <= 0.109\\ngini = 0.014\\nsamples = 146\\nvalue = [145, 1]'),\n",
              " Text(0.8695652173913043, 0.25, 'X[7] <= 0.048\\ngini = 0.444\\nsamples = 3\\nvalue = [2, 1]'),\n",
              " Text(0.8260869565217391, 0.08333333333333333, 'gini = 0.0\\nsamples = 1\\nvalue = [0, 1]'),\n",
              " Text(0.9130434782608695, 0.08333333333333333, 'gini = 0.0\\nsamples = 2\\nvalue = [2, 0]'),\n",
              " Text(0.9565217391304348, 0.25, 'gini = 0.0\\nsamples = 143\\nvalue = [143, 0]')]"
            ]
          },
          "metadata": {},
          "execution_count": 89
        },
        {
          "output_type": "display_data",
          "data": {
            "text/plain": [
              "<Figure size 432x288 with 1 Axes>"
            ],
            "image/png": "[encoded data removed]"
          },
          "metadata": {
            "needs_background": "light"
          }
        }
      ]
    },
    {
      "cell_type": "code",
      "source": [
        "def jaccard_set(list1, list2):\n",
        "    \"\"\"Define Jaccard Similarity function for two sets\"\"\"\n",
        "    intersection = len(list(set(list1).intersection(list2)))\n",
        "    union = (len(list1) + len(list2)) - intersection\n",
        "    return float(intersection) / union\n",
        "\n"
      ],
      "metadata": {
        "id": "E8T41vBjPBpv"
      },
      "execution_count": null,
      "outputs": []
    },
    {
      "cell_type": "code",
      "source": [
        "# تابع اختصاصی برای تعریف ناخالصی جینی\n",
        "    #private function to define the gini impurity\n",
        "    def __giniE(self,D):\n",
        "        #initialize the output\n",
        "        GH = 0\n",
        "        #iterrate through the unique classes\n",
        "        for c in np.unique(D[:,-1]):\n",
        "          for k in np.unique(D[:1,-1])\n",
        "            #compute p for the current c\n",
        "            pp = D[D[:,-1]==c]\n",
        "            l = D[D[:1,-1]==k]\n",
        "            #z = p.intersection(l)\n",
        "            z= jaccard_set(pp,l)\n",
        "            o = pp.difference(l) / 2\n",
        "            GH = (1-o) * z\n",
        "            #compute term for the current c\n",
        "            #GH += p*(1-p)\n",
        "        #return gini impurity\n",
        "        return(GH)"
      ],
      "metadata": {
        "id": "cMoP0no4Wktn"
      },
      "execution_count": null,
      "outputs": []
    }
  ]
}